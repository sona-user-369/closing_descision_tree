{
 "cells": [
  {
   "cell_type": "markdown",
   "source": [
    "<h2>Un tour au niveau des arbres de décision! Code self Decision tree algo. Don't use it for project's algorithms. it's for learn !!!</h2>\n",
    "<h3>1.1- Importation des packages</h3>"
   ],
   "metadata": {
    "collapsed": false
   }
  },
  {
   "cell_type": "code",
   "execution_count": 1,
   "outputs": [],
   "source": [
    "import numpy as np\n",
    "import pandas as pd\n",
    "from functools import reduce\n",
    "import operator"
   ],
   "metadata": {
    "collapsed": false,
    "ExecuteTime": {
     "end_time": "2023-10-18T01:30:18.457598972Z",
     "start_time": "2023-10-18T01:30:17.565032289Z"
    }
   }
  },
  {
   "cell_type": "markdown",
   "source": [
    "<h3>1.2 Deal with data. Here we choose to predict a price of a house based on surface, est_new and nb_piece. We will write a decision tree who deal with data</h3>"
   ],
   "metadata": {
    "collapsed": false
   }
  },
  {
   "cell_type": "code",
   "execution_count": 3,
   "outputs": [
    {
     "name": "stdout",
     "output_type": "stream",
     "text": [
      "      prix  surface  est_new  nb_piece\n",
      "0   150000    120.5     True         3\n",
      "1   200000    145.0    False         4\n",
      "2   175000    110.2     True         3\n",
      "3   300000    200.0    False         5\n",
      "4   250000    175.5     True         4\n",
      "5   180000    130.0    False         3\n",
      "6   220000    160.0     True         4\n",
      "7   275000    190.2    False         5\n",
      "8   195000    140.8     True         3\n",
      "9   320000    210.5    False         5\n",
      "10  280000    195.0     True         4\n",
      "11  210000    150.2    False         3\n",
      "12  240000    170.0     True         4\n",
      "13  350000    225.5    False         5\n",
      "14  325000    215.0     True         4\n",
      "15  265000    180.5    False         3\n",
      "16  230000    155.2     True         4\n",
      "17  205000    135.0    False         5\n",
      "18  195000    125.5     True         3\n",
      "19  185000    115.0    False         4\n"
     ]
    }
   ],
   "source": [
    "data = {\n",
    "    \"prix\": [150000, 200000, 175000, 300000, 250000, 180000, 220000, 275000, 195000, 320000, 280000, 210000, 240000, 350000, 325000, 265000, 230000, 205000, 195000, 185000],\n",
    "    \"surface\": [120.5, 145.0, 110.2, 200.0, 175.5, 130.0, 160.0, 190.2, 140.8, 210.5, 195.0, 150.2, 170.0, 225.5, 215.0, 180.5, 155.2, 135.0, 125.5, 115.0],\n",
    "    \"est_new\": [True, False, True, False, True, False, True, False, True, False, True, False, True, False, True, False, True, False, True, False],\n",
    "    \"nb_piece\": [3, 4, 3, 5, 4, 3, 4, 5, 3, 5, 4, 3, 4, 5, 4, 3, 4, 5, 3, 4]\n",
    "}\n",
    "\n",
    "data_frame = pd.DataFrame(data)\n",
    "print(data_frame)"
   ],
   "metadata": {
    "collapsed": false,
    "ExecuteTime": {
     "end_time": "2023-10-18T01:31:01.789318298Z",
     "start_time": "2023-10-18T01:31:01.771247098Z"
    }
   }
  },
  {
   "cell_type": "code",
   "execution_count": null,
   "outputs": [],
   "source": [
    "class DecisionTree:\n",
    "    def __init__(self, target, max_depth, dataframe):\n",
    "        self.target = target\n",
    "        self.max_depth = max_depth\n",
    "        self.dataframe = dataframe\n",
    "\n",
    "\n",
    "    def __quanti_reduce__(self, feature, value, dataframe):\n",
    "        \"\"\"reduction de données quantitative basé sur le feature et value\"\"\"\n",
    "        left = dataframe[dataframe.iloc[:, feature] <= value]\n",
    "        right = dataframe[dataframe.iloc[: feature] > value ]\n",
    "\n",
    "        return left, right\n",
    "\n",
    "\n",
    "    def __quali_reduce__(self, feature, value, dataframe):\n",
    "        \"\"\"reduction de données qualitatives basé sur le feature et value\"\"\"\n",
    "        left = dataframe[dataframe.iloc[:, feature] == value]\n",
    "        right = dataframe[dataframe.iloc[: feature] != value ]\n",
    "\n",
    "        return left, right\n",
    "\n",
    "    def __mse__(self, dataset):\n",
    "        \"\"\"Evaluation du coût de prediction dune node \"\"\"\n",
    "        rows = dataset[self.target]\n",
    "        pred = np.ones(rows.shape[0]) * np.mean(rows)\n",
    "        result = 1/len(rows) * np.sum((rows-pred)**2)\n",
    "        return result\n",
    "\n",
    "\n",
    "    def __split_evalutor__(self, left_datasets, right_datasets):\n",
    "        \"\"\"cout de separation d'un node. Encore appelée cout d'une node.\n",
    "        Ici on fait la somme de produit m1*Evc, m1 pour le rapport des echantillons\n",
    "        et Evc pour l'evalution mse du coté (gauche ou droite)\n",
    "        \"\"\"\n",
    "        nb_left = len(left_datasets)\n",
    "        left_evc = self.__mse__(left_datasets)\n",
    "        nb_right = len(left_datasets)\n",
    "        right_evc = self.__mse__(right_datasets)\n",
    "\n",
    "        nb_total = nb_right + nb_left\n",
    "\n",
    "        evaluator = (nb_left * left_evc)/nb_total + (nb_right * right_evc)/nb_total\n",
    "\n",
    "        return  evaluator\n",
    "\n",
    "    def __test_quanti__(self, feature, dataframe):\n",
    "        col = (\"feature\", \"value\", \"nature\", \"cost\")\n",
    "\n",
    "        test_result = pd.DataFrame([], columns=col)\n",
    "        value_test = (dataframe.loc[:, feature].sort_values()[1:].values +\n",
    "                      dataframe.loc[:, feature].sort_values()[:-1].values)/2\n",
    "        for value in value_test:\n",
    "            left, right = self.__quanti_reduce__(feature, value, dataframe)\n",
    "            cost = self.__split_evalutor__(left, right)\n",
    "            test_result.append({\"feature\": feature, \"value\": value, \"nature\": \"quanti\", \"cost\": cost})\n",
    "\n",
    "        return test_result\n",
    "\n",
    "    def __test_quali__(self, feature, dataframe):\n",
    "        col = (\"feature\", \"value\", \"nature\", \"cost\")\n",
    "\n",
    "        test_result = pd.DataFrame([], columns=col)\n",
    "        value_test = dataframe.loc[:, feature].unique().values\n",
    "        for value in value_test:\n",
    "            left, right = self.__quali_reduce__(feature, value, dataframe)\n",
    "            cost = self.__split_evalutor__(left, right)\n",
    "            test_result.append({\"feature\": feature, \"value\": value, \"nature\": \"quali\", \"cost\": cost})\n",
    "\n",
    "        return test_result\n",
    "\n",
    "    def __best_separtor(self, dataframe):\n",
    "        \"\"\"find the best separator for each column\"\"\"\n",
    "        test = None\n",
    "        col = (\"feature\", \"value\", \"nature\", \"cost\")\n",
    "        best_result = pd.DataFrame([], columns=col)\n",
    "        columns = dataframe.columns[np.logical_not(dataframe.columns == self.target)]\n",
    "        for colum in columns:\n",
    "            if len(dataframe[colum].unique()) >=5:\n",
    "                test = self.__test_quanti__(colum, dataframe)\n",
    "            elif len(dataframe[colum].unique() > 1):\n",
    "                test = self.__test_quali__(colum, dataframe)\n",
    "            best_result = best_result.append(test)\n",
    "\n",
    "        best_result = best_result.reset_index(drop=True)\n",
    "        idx_min_column = best_result[\"cost\"].idxmin(axis=0,alpha=True)\n",
    "\n",
    "        return best_result.iloc[idx_min_column,:1]\n",
    "\n",
    "    def __create_leaf(self, dataframe):\n",
    "        label = dataframe[self.target]\n",
    "        pop = len(label.shape[0])\n",
    "        prediction = np.means(label)\n",
    "\n",
    "        return Leaf(label,pop, prediction)\n",
    "\n",
    "\n",
    "    def __training__(self):\n",
    "\n",
    "class Leaf:\n",
    "    def __init__(self, label, pop, prediction):\n",
    "        self.label = label\n",
    "        self.pop = pop\n",
    "        self.prediction = prediction\n",
    "\n",
    "\n",
    "\n",
    "\n",
    "\n",
    "\n"
   ],
   "metadata": {
    "collapsed": false
   }
  }
 ],
 "metadata": {
  "kernelspec": {
   "display_name": "Python 3",
   "language": "python",
   "name": "python3"
  },
  "language_info": {
   "codemirror_mode": {
    "name": "ipython",
    "version": 2
   },
   "file_extension": ".py",
   "mimetype": "text/x-python",
   "name": "python",
   "nbconvert_exporter": "python",
   "pygments_lexer": "ipython2",
   "version": "2.7.6"
  }
 },
 "nbformat": 4,
 "nbformat_minor": 0
}
